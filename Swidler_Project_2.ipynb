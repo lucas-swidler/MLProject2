{
  "nbformat": 4,
  "nbformat_minor": 0,
  "metadata": {
    "colab": {
      "name": "Swidler - Project 2.ipynb",
      "provenance": []
    },
    "kernelspec": {
      "name": "python3",
      "display_name": "Python 3"
    },
    "language_info": {
      "name": "python"
    },
    "accelerator": "GPU"
  },
  "cells": [
    {
      "cell_type": "markdown",
      "metadata": {
        "id": "_LVfqS4nyI5b"
      },
      "source": [
        "#Project #2 Starter Code\n",
        "\n",
        "Your project should address the categories below.\n",
        "\n",
        "##How many points I think I Attempted:\n",
        "*I attempted every point on this project. I made sure to elaborate as much as I could for my written portions, and included all the requirements for the coding portions.*\n",
        "\n",
        "##Problem: \n",
        "*In this machine learning experiment, I am trying to determine whether or not someone favored a movie based on the review they gave of it. This could be useful for film studios that want to take a closer look at the reviews than just at the number rating. This data has one predictor variable, the review itself, and one target variable, the sentiment. I am trying to predict the sentiment of a review given the text of it.*\n",
        "#Input Pipeline(sklearn):"
      ]
    },
    {
      "cell_type": "code",
      "metadata": {
        "colab": {
          "base_uri": "https://localhost:8080/",
          "height": 225
        },
        "id": "-oMp3uz3ww8f",
        "outputId": "6fa2f84f-be59-4502-8953-19ae398f4626"
      },
      "source": [
        "from google.colab import drive\n",
        "import pandas\n",
        "drive.mount('/content/drive')\n",
        "data = pandas.read_csv('/content/drive/MyDrive/CS167/IMDB_dataset.csv')\n",
        "data.head()"
      ],
      "execution_count": null,
      "outputs": [
        {
          "output_type": "stream",
          "name": "stdout",
          "text": [
            "Mounted at /content/drive\n"
          ]
        },
        {
          "output_type": "execute_result",
          "data": {
            "text/html": [
              "<div>\n",
              "<style scoped>\n",
              "    .dataframe tbody tr th:only-of-type {\n",
              "        vertical-align: middle;\n",
              "    }\n",
              "\n",
              "    .dataframe tbody tr th {\n",
              "        vertical-align: top;\n",
              "    }\n",
              "\n",
              "    .dataframe thead th {\n",
              "        text-align: right;\n",
              "    }\n",
              "</style>\n",
              "<table border=\"1\" class=\"dataframe\">\n",
              "  <thead>\n",
              "    <tr style=\"text-align: right;\">\n",
              "      <th></th>\n",
              "      <th>review</th>\n",
              "      <th>sentiment</th>\n",
              "    </tr>\n",
              "  </thead>\n",
              "  <tbody>\n",
              "    <tr>\n",
              "      <th>0</th>\n",
              "      <td>One of the other reviewers has mentioned that ...</td>\n",
              "      <td>positive</td>\n",
              "    </tr>\n",
              "    <tr>\n",
              "      <th>1</th>\n",
              "      <td>A wonderful little production. &lt;br /&gt;&lt;br /&gt;The...</td>\n",
              "      <td>positive</td>\n",
              "    </tr>\n",
              "    <tr>\n",
              "      <th>2</th>\n",
              "      <td>I thought this was a wonderful way to spend ti...</td>\n",
              "      <td>positive</td>\n",
              "    </tr>\n",
              "    <tr>\n",
              "      <th>3</th>\n",
              "      <td>Basically there's a family where a little boy ...</td>\n",
              "      <td>negative</td>\n",
              "    </tr>\n",
              "    <tr>\n",
              "      <th>4</th>\n",
              "      <td>Petter Mattei's \"Love in the Time of Money\" is...</td>\n",
              "      <td>positive</td>\n",
              "    </tr>\n",
              "  </tbody>\n",
              "</table>\n",
              "</div>"
            ],
            "text/plain": [
              "                                              review sentiment\n",
              "0  One of the other reviewers has mentioned that ...  positive\n",
              "1  A wonderful little production. <br /><br />The...  positive\n",
              "2  I thought this was a wonderful way to spend ti...  positive\n",
              "3  Basically there's a family where a little boy ...  negative\n",
              "4  Petter Mattei's \"Love in the Time of Money\" is...  positive"
            ]
          },
          "metadata": {},
          "execution_count": 3
        }
      ]
    },
    {
      "cell_type": "markdown",
      "metadata": {
        "id": "dhAW04-bxyRz"
      },
      "source": [
        "#Data Exploration#\n",
        "\n",
        "\n",
        "*   Number of samples\n",
        "*   Number of classes of the target variable\n",
        "*   Number of words per sample\n",
        "*   Distribution of sample length\n",
        "*   Something else: get creative :)\n",
        "\n"
      ]
    },
    {
      "cell_type": "code",
      "metadata": {
        "id": "LEOseWnDyXE1",
        "colab": {
          "base_uri": "https://localhost:8080/",
          "height": 360
        },
        "outputId": "3429a588-b267-4ab9-f060-c9ab8452ac1b"
      },
      "source": [
        "# Number of Samples\n",
        "print('Number of Samples:', data.shape[0])\n",
        "\n",
        "# Number of classes of the target variable\n",
        "print('Classes of the Target Variable:', data['sentiment'].unique())\n",
        "\n",
        "# Median number of words in the reviews\n",
        "## Get the number of words per review\n",
        "num_words = []\n",
        "for review in data['review']:\n",
        "  words_in_review = len(review.strip().split(\" \")) #strip() removes extra characters, split divides the string by the spaces into a list\n",
        "  num_words.append(words_in_review)\n",
        "## Calculate the median number of words\n",
        "num_words.sort()\n",
        "middle = round(len(num_words)/2)\n",
        "if len(num_words) % 2 != 0:\n",
        "  median = (num_words[middle] + num_words[middle-1])/2\n",
        "else:\n",
        "  median = num_words[(middle)]\n",
        "\n",
        "print('The median wordcount is:', median)\n",
        "\n",
        "# Distribution of sample length\n",
        "import matplotlib.pyplot as plt\n",
        "%matplotlib inline\n",
        "\n",
        "row_length = []\n",
        "for text in data['review']:\n",
        "  row_length.append(len(text))\n",
        "plt.hist(row_length, log = True, edgecolor='black') #Code sourced from https://datagy.io/histogram-python/\n",
        "\n",
        "# Something else - What is the average length of positive versus negative sentiment reviews?\n",
        "positive_length = 0\n",
        "negative_length = 0\n",
        "positive_count = 0\n",
        "negative_count = 0\n",
        "\n",
        "for index, sample in data.iterrows(): # I wasn't sure why this wasn't working, and from stackoverflow adding index to the for loop fixed it\n",
        "                                      # Link to the page: https://stackoverflow.com/questions/16476924/how-to-iterate-over-rows-in-a-dataframe-in-pandas\n",
        "  if sample['sentiment'] == 'positive':\n",
        "    positive_length += len(sample['review'])\n",
        "    positive_count += 1\n",
        "  else:\n",
        "    negative_length += len(sample['review'])\n",
        "    negative_count += 1\n",
        "\n",
        "print('The average number of characters in a positive review is:', (positive_length/positive_count))\n",
        "print('The average number of characters in a negative review is:', (negative_length/negative_count))"
      ],
      "execution_count": null,
      "outputs": [
        {
          "output_type": "stream",
          "name": "stdout",
          "text": [
            "Number of Samples: 50000\n",
            "Classes of the Target Variable: ['positive' 'negative']\n",
            "The median wordcount is: 173\n",
            "The average number of characters in a positive review is: 1324.79768\n",
            "The average number of characters in a negative review is: 1294.06436\n"
          ]
        },
        {
          "output_type": "display_data",
          "data": {
            "image/png": "[encoded data removed]",
            "text/plain": [
              "<Figure size 432x288 with 1 Axes>"
            ]
          },
          "metadata": {
            "needs_background": "light"
          }
        }
      ]
    },
    {
      "cell_type": "markdown",
      "metadata": {
        "id": "KI2-UMcaxFkI"
      },
      "source": [
        "#Data Preparation\n",
        "\n",
        "I'm providing you with code that cleans the reviews by making it all lowercase letters and removing stop words. The three cells below do this for you. I still want you to explain what you did with the data here.\n",
        "\n",
        "*This cell firstly runs the imports needed to prep the data, including downloading stopwords from NLTK.*\n"
      ]
    },
    {
      "cell_type": "code",
      "metadata": {
        "colab": {
          "base_uri": "https://localhost:8080/"
        },
        "id": "g7Y-OGXTxGNm",
        "outputId": "c19b228b-ee9d-4508-c26a-ef2140abccc0"
      },
      "source": [
        "from bs4 import BeautifulSoup\n",
        "import re\n",
        "import nltk\n",
        "#only do next line once\n",
        "nltk.download() #in Corpora tab, download stopwords\n",
        "from nltk.corpus import stopwords\n",
        "from sklearn.model_selection import train_test_split\n",
        "#The NLTK downloader will open, you need to select (d) for Download, and then 'stopwords'then (q) to quit"
      ],
      "execution_count": null,
      "outputs": [
        {
          "name": "stdout",
          "output_type": "stream",
          "text": [
            "NLTK Downloader\n",
            "---------------------------------------------------------------------------\n",
            "    d) Download   l) List    u) Update   c) Config   h) Help   q) Quit\n",
            "---------------------------------------------------------------------------\n",
            "Downloader> d\n",
            "\n",
            "Download which package (l=list; x=cancel)?\n",
            "  Identifier> stopwords\n",
            "    Downloading package stopwords to /root/nltk_data...\n",
            "      Unzipping corpora/stopwords.zip.\n",
            "\n",
            "---------------------------------------------------------------------------\n",
            "    d) Download   l) List    u) Update   c) Config   h) Help   q) Quit\n",
            "---------------------------------------------------------------------------\n",
            "Downloader> q\n"
          ]
        }
      ]
    },
    {
      "cell_type": "markdown",
      "metadata": {
        "id": "DyeHwbYLpW1w"
      },
      "source": [
        "*This function is used to run on each review in the dataframe and sets it all to lowercase and without stop words, the most common words that do not add much to the review.*"
      ]
    },
    {
      "cell_type": "code",
      "metadata": {
        "id": "hZFkhJ9xxSV0"
      },
      "source": [
        "#This is a function that takes in a review, makes sure it is only lower case letters and removes stopwords.\n",
        "#It returns the cleaned review text.\n",
        "def clean_review(review):\n",
        "    #input is a string review\n",
        "    #return is review cleaned of all punctuation, lowercase, and removed nltk stopwords\n",
        "    letters_only = re.sub(\"[^a-zA-Z]\",\" \",review)\n",
        "    lower_case = letters_only.lower()\n",
        "    words = lower_case.split()\n",
        "    for stop_word in stopwords.words(\"english\"):\n",
        "        while stop_word in words:\n",
        "            words.remove(stop_word)\n",
        "    cleaned = \" \".join(words)\n",
        "    return cleaned"
      ],
      "execution_count": null,
      "outputs": []
    },
    {
      "cell_type": "markdown",
      "metadata": {
        "id": "wYbwD5ozpo6N"
      },
      "source": [
        "*Using the clean_review function to create a list of the cleaned up reviews*"
      ]
    },
    {
      "cell_type": "code",
      "metadata": {
        "id": "9Di71dIDxYr_"
      },
      "source": [
        "#process the data\n",
        "cleaned_text = []\n",
        "for i in range(len(data)):\n",
        "    cleaned_text.append(clean_review(data[\"review\"][i]))"
      ],
      "execution_count": null,
      "outputs": []
    },
    {
      "cell_type": "code",
      "metadata": {
        "colab": {
          "base_uri": "https://localhost:8080/"
        },
        "id": "6FgLkLadxeLL",
        "outputId": "e4409f12-7375-4e04-96f0-3007b53e960a"
      },
      "source": [
        "cleaned_text[:5]"
      ],
      "execution_count": null,
      "outputs": [
        {
          "output_type": "execute_result",
          "data": {
            "text/plain": [
              "['one reviewers mentioned watching oz episode hooked right exactly happened br br first thing struck oz brutality unflinching scenes violence set right word go trust show faint hearted timid show pulls punches regards drugs sex violence hardcore classic use word br br called oz nickname given oswald maximum security state penitentary focuses mainly emerald city experimental section prison cells glass fronts face inwards privacy high agenda em city home many aryans muslims gangstas latinos christians italians irish scuffles death stares dodgy dealings shady agreements never far away br br would say main appeal show due fact goes shows dare forget pretty pictures painted mainstream audiences forget charm forget romance oz mess around first episode ever saw struck nasty surreal say ready watched developed taste oz got accustomed high levels graphic violence violence injustice crooked guards sold nickel inmates kill order get away well mannered middle class inmates turned prison bitches due lack street skills prison experience watching oz may become comfortable uncomfortable viewing thats get touch darker side',\n",
              " 'wonderful little production br br filming technique unassuming old time bbc fashion gives comforting sometimes discomforting sense realism entire piece br br actors extremely well chosen michael sheen got polari voices pat truly see seamless editing guided references williams diary entries well worth watching terrificly written performed piece masterful production one great master comedy life br br realism really comes home little things fantasy guard rather use traditional dream techniques remains solid disappears plays knowledge senses particularly scenes concerning orton halliwell sets particularly flat halliwell murals decorating every surface terribly well done',\n",
              " 'thought wonderful way spend time hot summer weekend sitting air conditioned theater watching light hearted comedy plot simplistic dialogue witty characters likable even well bread suspected serial killer may disappointed realize match point risk addiction thought proof woody allen still fully control style many us grown love br br laughed one woody comedies years dare say decade never impressed scarlet johanson managed tone sexy image jumped right average spirited young woman br br may crown jewel career wittier devil wears prada interesting superman great comedy go see friends',\n",
              " 'basically family little boy jake thinks zombie closet parents fighting time br br movie slower soap opera suddenly jake decides become rambo kill zombie br br ok first going make film must decide thriller drama drama movie watchable parents divorcing arguing like real life jake closet totally ruins film expected see boogeyman similar movie instead watched drama meaningless thriller spots br br well playing parents descent dialogs shots jake ignore',\n",
              " 'petter mattei love time money visually stunning film watch mr mattei offers us vivid portrait human relations movie seems telling us money power success people different situations encounter br br variation arthur schnitzler play theme director transfers action present time new york different characters meet connect one connected one way another next person one seems know previous point contact stylishly film sophisticated luxurious look taken see people live world live habitat br br thing one gets souls picture different stages loneliness one inhabits big city exactly best place human relations find sincere fulfillment one discerns case people encounter br br acting good mr mattei direction steve buscemi rosario dawson carol kane michael imperioli adrian grenier rest talented cast make characters come alive br br wish mr mattei good luck await anxiously next work']"
            ]
          },
          "metadata": {},
          "execution_count": 8
        }
      ]
    },
    {
      "cell_type": "markdown",
      "metadata": {
        "id": "boLDucm2qaVU"
      },
      "source": [
        "*Dividing up the data into training and testing datasets, as we've done before*"
      ]
    },
    {
      "cell_type": "code",
      "metadata": {
        "id": "pkHPmfpSznc3"
      },
      "source": [
        "#establish training and testing dataset\n",
        "train_data, test_data, train_sln, test_sln = \\\n",
        "    train_test_split(cleaned_text, data['sentiment'], test_size = 0.2, random_state=0)"
      ],
      "execution_count": null,
      "outputs": []
    },
    {
      "cell_type": "markdown",
      "metadata": {
        "id": "1LYcxuJwztdu"
      },
      "source": [
        "##Vectorizing the data\n",
        "**CountVectorizer**: Convert a collection of text documents to a matrix of token counts"
      ]
    },
    {
      "cell_type": "code",
      "metadata": {
        "id": "aXnKPLmvz1gJ"
      },
      "source": [
        "from sklearn.feature_extraction.text import CountVectorizer \n",
        "\n",
        "#Bag of Words with 5000 most common words - 5000 will take a while, minimum should be about 500\n",
        "vectorizer = CountVectorizer(analyzer='word', max_features = 500)\n",
        "#find the right 5000 words\n",
        "vectorizer.fit(train_data)\n",
        "\n",
        "#use the vectorizer to transform review strings into word count vectors \n",
        "train_data_vectors = vectorizer.transform(train_data).toarray()\n",
        "test_data_vectors = vectorizer.transform(test_data).toarray()"
      ],
      "execution_count": null,
      "outputs": []
    },
    {
      "cell_type": "code",
      "metadata": {
        "id": "8kIZ-alnz5vz"
      },
      "source": [
        "## Now use train_data_vectors and test_data_vectors to train/test/tune your sklearn models."
      ],
      "execution_count": null,
      "outputs": []
    },
    {
      "cell_type": "markdown",
      "metadata": {
        "id": "POYYNXdZsAsg"
      },
      "source": [
        "#Metrics:\n",
        "*For SVC, I'll be using accuracy as well as a confusion matrix, and Dr. Manley's function for plotting the decision boundary graph*\n",
        "\n",
        "*For PCA, I'll be using accuracy and a graph. As PCA transforms the data, it would be best to use a graphical representation to see the changes running it made on the accuracy.*\n",
        "\n",
        "*With a single perceptron, I'll be using accuracy, a confusion matrix, and a chart of accuracy vs. epochs. This is the best for this type of machine learning because as it is a classification problem, epochs and training rate are the only two ways to tune it.*\n",
        "\n",
        "*For MLP, I will be using accuracy, a confusion matrix, and a similar graph to the perceptron.*"
      ]
    },
    {
      "cell_type": "markdown",
      "metadata": {
        "id": "erRL9Meoyujs"
      },
      "source": [
        "#SVC:\n",
        "*For this model, I'll be tuning the C value and gamma*"
      ]
    },
    {
      "cell_type": "code",
      "metadata": {
        "colab": {
          "base_uri": "https://localhost:8080/"
        },
        "id": "zm4bf-WbwRPk",
        "outputId": "2e45b0ac-5ee8-4e5e-b062-d1f90e1762c8"
      },
      "source": [
        "from sklearn.svm import SVC\n",
        "from sklearn import metrics \n",
        "# Support Vector Classifier\n",
        "clf = SVC(C = 0.5, gamma = 'scale') # A lower C-value will make the decision boundary more smooth, which will be more applicable to a testing set\n",
        "clf.fit(train_data_vectors,train_sln)\n",
        "clf_predictions = clf.predict(test_data_vectors)\n",
        "\n",
        "# Accuracy and Confusion Matrix\n",
        "print(\"accuracy:\", metrics.accuracy_score(test_sln, clf_predictions))\n",
        "vals = data['sentiment'].unique() ## possible classification values\n",
        "conf_mat = metrics.confusion_matrix(test_sln, clf_predictions, labels = vals)\n",
        "print(pandas.DataFrame(conf_mat, index = \"T \" + vals, columns = \"Pred \" + vals))\n"
      ],
      "execution_count": null,
      "outputs": [
        {
          "output_type": "stream",
          "name": "stdout",
          "text": [
            "accuracy: 0.827\n",
            "            Pred positive  Pred negative\n",
            "T positive           4210            755\n",
            "T negative            975           4060\n"
          ]
        }
      ]
    },
    {
      "cell_type": "code",
      "metadata": {
        "id": "j58D588fihHh",
        "colab": {
          "base_uri": "https://localhost:8080/",
          "height": 326
        },
        "outputId": "2495d0fc-1d5f-48ba-c1ba-16a3fb4aa939"
      },
      "source": [
        "# Graphing the results - SVC accuracy vs C-value\n",
        "#range_c = range(0, 1, 0.1)\n",
        "range_c = [0.1,0.2,0.3,0.4,0.5,0.6,0.7,0.8,0.9,1]\n",
        "c_accuracies = []\n",
        "\n",
        "for c in range_c:\n",
        "  curr_c = SVC(C = c, gamma = 'scale')\n",
        "  curr_c.fit(train_data_vectors, train_sln)\n",
        "  curr_predictions = curr_c.predict(test_data_vectors)\n",
        "  curr_accuracy = metrics.accuracy_score(test_sln, curr_predictions)\n",
        "  c_accuracies.append(curr_accuracy)\n",
        "\n",
        "# Creating the Graph\n",
        "plt.suptitle('SVC Accuracy vs. Value of C',fontsize = 18)\n",
        "plt.xlabel('C Value')\n",
        "plt.ylabel('Accuracy')\n",
        "plt.plot(range_c, c_accuracies,'bo-')\n",
        "plt.axis([0,range_c[-1]+1,.8,1])\n",
        "plt.show()\n",
        "\n",
        "print('The most accurate C value was', max(c_accuracies))"
      ],
      "execution_count": null,
      "outputs": [
        {
          "output_type": "display_data",
          "data": {
            "image/png": "[encoded data removed]",
            "text/plain": [
              "<Figure size 432x288 with 1 Axes>"
            ]
          },
          "metadata": {
            "needs_background": "light"
          }
        },
        {
          "output_type": "stream",
          "name": "stdout",
          "text": [
            "The most accurate C value was 0.8307\n"
          ]
        }
      ]
    },
    {
      "cell_type": "markdown",
      "metadata": {
        "id": "oDDP_MGZPVwF"
      },
      "source": [
        "#PCA:\n",
        "*For this model, I'll be tuning the parameter Whiten. As PCA transforms the data and does not make predictions on its own, I will be running another SVC to see how the data was transformed.*"
      ]
    },
    {
      "cell_type": "code",
      "metadata": {
        "id": "AtVZYtLmNzeZ"
      },
      "source": [
        "from sklearn.decomposition import PCA\n",
        "from sklearn import metrics\n",
        "# Principal Component Analysis\n",
        "extractor = PCA(whiten = True)\n",
        "# Transform training and testing data\n",
        "extractor.fit(train_data_vectors)\n",
        "train_data_transformed = extractor.transform(train_data_vectors)\n",
        "test_data_transformed = extractor.transform(test_data_vectors)"
      ],
      "execution_count": null,
      "outputs": []
    },
    {
      "cell_type": "code",
      "metadata": {
        "colab": {
          "base_uri": "https://localhost:8080/"
        },
        "id": "MmytFOPBUyf9",
        "outputId": "5d977470-0176-449a-ab76-b5e80b9edb91"
      },
      "source": [
        "# Run a new SVC to compare to the previous run\n",
        "clf_pca = SVC(C = 0.5, gamma = 'scale')\n",
        "clf_pca.fit(train_data_transformed,train_sln)\n",
        "clf_pca_predictions = clf_pca.predict(test_data_transformed)\n",
        "\n",
        "# Accuracy and Confusion Matrix\n",
        "print(\"accuracy:\", metrics.accuracy_score(test_sln, clf_pca_predictions))\n",
        "vals = data['sentiment'].unique() ## possible classification values\n",
        "conf_mat = metrics.confusion_matrix(test_sln, clf_pca_predictions, labels = vals)\n",
        "print(pandas.DataFrame(conf_mat, index = \"T \" + vals, columns = \"Pred \" + vals))"
      ],
      "execution_count": null,
      "outputs": [
        {
          "output_type": "stream",
          "name": "stdout",
          "text": [
            "accuracy: 0.8315\n",
            "            Pred positive  Pred negative\n",
            "T positive           4252            713\n",
            "T negative            972           4063\n"
          ]
        }
      ]
    },
    {
      "cell_type": "code",
      "metadata": {
        "id": "9BZKi6GWVqkO",
        "colab": {
          "base_uri": "https://localhost:8080/",
          "height": 326
        },
        "outputId": "655672c2-7c61-4f23-e811-703677e019e9"
      },
      "source": [
        "# Graphing the results - SVC accuracy vs C-value\n",
        "range_c = [0.1,0.2,0.3,0.4,0.5,0.6,0.7,0.8,0.9,1]\n",
        "c_accuracies = []\n",
        "\n",
        "for c in range_c:\n",
        "  curr_c = SVC(C = c, gamma = 'scale')\n",
        "  curr_c.fit(train_data_transformed, train_sln)\n",
        "  curr_predictions = curr_c.predict(test_data_transformed)\n",
        "  curr_accuracy = metrics.accuracy_score(test_sln, curr_predictions)\n",
        "  c_accuracies.append(curr_accuracy)\n",
        "\n",
        "# Creating the Graph\n",
        "plt.suptitle('Post-PCA SVC Accuracy vs. Value of C',fontsize = 18)\n",
        "plt.xlabel('C Value')\n",
        "plt.ylabel('Accuracy')\n",
        "plt.plot(range_c, c_accuracies,'bo-')\n",
        "plt.axis([0,range_c[-1]+1,.8,1])\n",
        "plt.show()\n",
        "\n",
        "print('The most accurate C value was', max(c_accuracies))"
      ],
      "execution_count": null,
      "outputs": [
        {
          "output_type": "display_data",
          "data": {
            "image/png": "[encoded data removed]",
            "text/plain": [
              "<Figure size 432x288 with 1 Axes>"
            ]
          },
          "metadata": {
            "needs_background": "light"
          }
        },
        {
          "output_type": "stream",
          "name": "stdout",
          "text": [
            "The most accurate C value was 0.8329\n"
          ]
        }
      ]
    },
    {
      "cell_type": "markdown",
      "metadata": {
        "id": "niAGpALO4ZO9"
      },
      "source": [
        "#Perceptron:\n",
        "*For this model, I'll be tuning the number of epochs. Since it is a classification problem, it has no activation function to tune.*"
      ]
    },
    {
      "cell_type": "code",
      "metadata": {
        "id": "TlJwAeai6NbR",
        "colab": {
          "base_uri": "https://localhost:8080/"
        },
        "outputId": "b67aa0ce-1535-4378-e4ff-5428ab50d816"
      },
      "source": [
        "from sklearn.linear_model import Perceptron\n",
        "from sklearn import metrics\n",
        "# Perceptron\n",
        "perc = Perceptron(eta0 = 0.1, max_iter = 100)\n",
        "perc.fit(train_data_vectors,train_sln)\n",
        "perc_predictions = perc.predict(test_data_vectors)\n",
        "\n",
        "# Accuracy and Confusion Matrix\n",
        "print(\"accuracy:\", metrics.accuracy_score(test_sln, perc_predictions))\n",
        "vals = data['sentiment'].unique() ## possible classification values\n",
        "conf_mat = metrics.confusion_matrix(test_sln, perc_predictions, labels = vals)\n",
        "print(pandas.DataFrame(conf_mat, index = \"T \" + vals, columns = \"Pred \" + vals))"
      ],
      "execution_count": null,
      "outputs": [
        {
          "output_type": "stream",
          "name": "stdout",
          "text": [
            "accuracy: 0.809\n",
            "            Pred positive  Pred negative\n",
            "T positive           4225            740\n",
            "T negative           1170           3865\n"
          ]
        }
      ]
    },
    {
      "cell_type": "code",
      "metadata": {
        "id": "SeV-csFJ6W1s",
        "colab": {
          "base_uri": "https://localhost:8080/",
          "height": 326
        },
        "outputId": "27d18b9b-7171-4555-8d50-c45d1928ea0a"
      },
      "source": [
        "# Graphing the results - Perceptron Accuracy vs Epochs\n",
        "range_epochs = range(100, 1000, 100)\n",
        "perc_accuracies = []\n",
        "\n",
        "for e in range_epochs:\n",
        "  curr_e = Perceptron(eta0 = 0.1, max_iter = e)\n",
        "  curr_e.fit(train_data_vectors, train_sln)\n",
        "  curr_predictions = curr_e.predict(test_data_vectors)\n",
        "  curr_accuracy = metrics.accuracy_score(test_sln, curr_predictions)\n",
        "  perc_accuracies.append(curr_accuracy)\n",
        "\n",
        "# Creating the Graph\n",
        "plt.suptitle('Perceptron Accuracy vs. Epochs',fontsize = 18)\n",
        "plt.xlabel('Epochs')\n",
        "plt.ylabel('Accuracy')\n",
        "plt.plot(range_epochs, perc_accuracies,'bo-')\n",
        "plt.axis([0,1100,.8,1])\n",
        "plt.show()\n",
        "\n",
        "print('The most accurate epoch was:', max(perc_accuracies))"
      ],
      "execution_count": null,
      "outputs": [
        {
          "output_type": "display_data",
          "data": {
            "image/png": "[encoded data removed]",
            "text/plain": [
              "<Figure size 432x288 with 1 Axes>"
            ]
          },
          "metadata": {
            "needs_background": "light"
          }
        },
        {
          "output_type": "stream",
          "name": "stdout",
          "text": [
            "The most accurate epoch was: 0.809\n"
          ]
        }
      ]
    },
    {
      "cell_type": "markdown",
      "metadata": {
        "id": "_C6sDyJh6a0B"
      },
      "source": [
        "#Multi Layer Perceptron:\n",
        "*For MLP, I'll be tuning the number of epochs, as tuning the width or depth could be very computationally intensive*"
      ]
    },
    {
      "cell_type": "code",
      "metadata": {
        "id": "BlMa_q9I60Xx",
        "colab": {
          "base_uri": "https://localhost:8080/"
        },
        "outputId": "8bae3dfe-f71c-4644-db98-967c4bb824cf"
      },
      "source": [
        "# MLP\n",
        "from sklearn.neural_network import MLPClassifier\n",
        "from sklearn import metrics\n",
        "mlp = MLPClassifier(learning_rate = 'adaptive', max_iter = 100)\n",
        "mlp.fit(train_data_vectors,train_sln)\n",
        "mlp_predictions = mlp.predict(test_data_vectors)\n",
        "\n",
        "# Accuracy and Confusion Matrix\n",
        "print(\"accuracy:\", metrics.accuracy_score(test_sln, mlp_predictions))\n",
        "vals = data['sentiment'].unique() ## possible classification values\n",
        "conf_mat = metrics.confusion_matrix(test_sln, mlp_predictions, labels = vals)\n",
        "print(pandas.DataFrame(conf_mat, index = \"T \" + vals, columns = \"Pred \" + vals))"
      ],
      "execution_count": null,
      "outputs": [
        {
          "output_type": "stream",
          "name": "stdout",
          "text": [
            "accuracy: 0.8065\n",
            "            Pred positive  Pred negative\n",
            "T positive           4038            927\n",
            "T negative           1008           4027\n"
          ]
        }
      ]
    },
    {
      "cell_type": "code",
      "metadata": {
        "id": "6jMZd1wh62po",
        "colab": {
          "base_uri": "https://localhost:8080/",
          "height": 326
        },
        "outputId": "c789d3bd-03e9-4b11-c044-9e662fec84f3"
      },
      "source": [
        "# Graphing the results - MLP Accuracy vs Epochs\n",
        "range_epochs = range(100, 1000, 100)\n",
        "mlp_accuracies = []\n",
        "\n",
        "for e in range_epochs:\n",
        "  curr_e = MLPClassifier(learning_rate = 'adaptive', max_iter = e)\n",
        "  curr_e.fit(train_data_vectors, train_sln)\n",
        "  curr_predictions = curr_e.predict(test_data_vectors)\n",
        "  curr_accuracy = metrics.accuracy_score(test_sln, curr_predictions)\n",
        "  mlp_accuracies.append(curr_accuracy)\n",
        "\n",
        "# Creating the Graph\n",
        "plt.suptitle('MLP Accuracy vs. Epochs',fontsize = 18)\n",
        "plt.xlabel('Epochs')\n",
        "plt.ylabel('Accuracy')\n",
        "plt.plot(range_epochs, mlp_accuracies,'bo-')\n",
        "plt.axis([0,1100,.8,1])\n",
        "plt.show()\n",
        "\n",
        "print('The most accurate epoch was:', max(mlp_accuracies))"
      ],
      "execution_count": null,
      "outputs": [
        {
          "output_type": "display_data",
          "data": {
            "image/png": "[encoded data removed]",
            "text/plain": [
              "<Figure size 432x288 with 1 Axes>"
            ]
          },
          "metadata": {
            "needs_background": "light"
          }
        },
        {
          "output_type": "stream",
          "name": "stdout",
          "text": [
            "The most accurate epoch was: 0.8122\n"
          ]
        }
      ]
    },
    {
      "cell_type": "markdown",
      "metadata": {
        "id": "7aQbeZx77CWm"
      },
      "source": [
        "#Bumps in the Road:\n",
        "*The biggest challenge I encountered was definitely how long the code took to run. Because the dataset was so large, I wasn't able to tune the parameters as well as I might have wanted. To overcome this, I lowered the max_features parameter in the CountVectorizer to 500 rather than 5000. Although it may have led to results that I may not have wanted ideally, they were able to be achieved in a much more reasonable amount of time.*"
      ]
    },
    {
      "cell_type": "markdown",
      "metadata": {
        "id": "BYY2QJOE7sZA"
      },
      "source": [
        "#Results:\n",
        "*To summarize the results I achieved, the confusion matrices generated for each machine learning model can help explain what happened. The first model, the Support Vector Classifier, had an accuracy of 82.7%. The number of false negatives and positives was relatively similar, but it was able to predict the sentiment of reviews fairly accurately.*\n",
        "\n",
        "*The second model was the Principal Component Analysis, or PCA. As PCA doesn't make predictions on its own, I used it to create a modified version of the data to run on another model. I decided to run another SVC so that it can be easily compared with the original. I found that it had an accuracy of 83.15%, which was only marginally better than the original SVC model.*\n",
        "\n",
        "*The third model ran was the Perceptron. It had a similar accuracy of roughly 80%, but it had many more false positives than false negatives. In this case, it meant that it predicted reviews were positive more often than they actually were.*\n",
        "\n",
        "*The last model ran was the MLP, multi-layer perceptron. This resulted in an accuracy of roughly 81.22%, only slightly better than the regular perceptron.*"
      ]
    },
    {
      "cell_type": "markdown",
      "metadata": {
        "id": "bzhscOsq7-lS"
      },
      "source": [
        "#Conclusions:\n",
        "*In conclusion, I found that the most accurate model to predict the sentiment of a movie review was using a Support Vector Classifier after running a Principal Component Analysis. I think this was the most accurate because of the PCA transforming the data, rather than leaving it as just the vectorization. Changing gamma to help the model generalize better helped as well. One thing I thought was interesting was how the number of epochs didn't seem to really influence how accurate the perceptron or MLP were. Going into this experiment, I thought those two would be by far the most accurate, but they were the least accurate models. If I had to run this experiment again, I would increase the number of max features when vectorizing. I had to sacrifice having that value be higher in exchange for a faster runtime, but I think that if it was higher I would have had better results.*"
      ]
    }
  ]
}